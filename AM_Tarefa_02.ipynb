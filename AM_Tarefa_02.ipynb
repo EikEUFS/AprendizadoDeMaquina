{
  "nbformat": 4,
  "nbformat_minor": 0,
  "metadata": {
    "colab": {
      "name": "AM - Tarefa 02.ipynb",
      "provenance": [],
      "collapsed_sections": [],
      "authorship_tag": "ABX9TyNJkrA37Wn8auNsv7H+QNGv",
      "include_colab_link": true
    },
    "kernelspec": {
      "name": "python3",
      "display_name": "Python 3"
    },
    "language_info": {
      "name": "python"
    }
  },
  "cells": [
    {
      "cell_type": "markdown",
      "metadata": {
        "id": "view-in-github",
        "colab_type": "text"
      },
      "source": [
        "<a href=\"https://colab.research.google.com/github/EikEUFS/AprendizadoDeMaquina/blob/main/AM_Tarefa_02.ipynb\" target=\"_parent\"><img src=\"https://colab.research.google.com/assets/colab-badge.svg\" alt=\"Open In Colab\"/></a>"
      ]
    },
    {
      "cell_type": "markdown",
      "metadata": {
        "id": "qcAK8DmBdKWO"
      },
      "source": [
        "## IMPORTACOES, CARREGAMENTO E MODELOS"
      ]
    },
    {
      "cell_type": "code",
      "metadata": {
        "id": "GurFDEoHTUBS"
      },
      "source": [
        "#!pip install d2l==0.16.2\n",
        "#!pip install pandas\n",
        "\n",
        "%matplotlib inline\n",
        "import numpy as np\n",
        "import pandas as pd\n",
        "import torch\n",
        "from torch import nn\n",
        "from d2l import torch as d2l\n",
        "\n",
        "train_data = pd.read_csv('https://raw.githubusercontent.com/EikEUFS/AprendizadoDeMaquina/main/datasets/houseofprices.train.csv')\n",
        "test_data = pd.read_csv('https://raw.githubusercontent.com/EikEUFS/AprendizadoDeMaquina/main/datasets/houseofprices.test.csv')\n",
        "\n",
        "# Remove o ID\n",
        "all_features = pd.concat((train_data.iloc[:, 1:-1], test_data.iloc[:, 1:]))\n",
        "\n",
        "# Todos os valores NÚMERICOS em branco são adicionados com a média da coluna\n",
        "numeric_features = all_features.dtypes[all_features.dtypes != 'object'].index\n",
        "all_features[numeric_features] = all_features[numeric_features].apply( lambda x: (x - x.mean()) / (x.std()))\n",
        "\n",
        "# Os resto dos valores em branco são inseridos como 0\n",
        "all_features[numeric_features] = all_features[numeric_features].fillna(0)\n",
        "\n",
        "# Caso possua algum valor em branco o get_dummies transforma como um valor válido\n",
        "all_features = pd.get_dummies(all_features, dummy_na=True)\n",
        "\n",
        "# Numero de colunas para o treinamento\n",
        "n_train = train_data.shape[0]\n",
        "\n",
        "# Separação dos dados de treino, teste e separa os rótulos para depois ser avaliado\n",
        "train_features = torch.tensor(all_features[:n_train].values, dtype=torch.float32)\n",
        "test_features = torch.tensor(all_features[n_train:].values, dtype=torch.float32)\n",
        "train_labels = torch.tensor(train_data.SalePrice.values.reshape(-1, 1), dtype=torch.float32)\n",
        "\n",
        "# Valores dos campos da rede\n",
        "in_features = train_features.shape[1]\n",
        "\n",
        "loss_1 = nn.MSELoss()\n",
        "\n",
        "def get_net_1():\n",
        "  net = nn.Sequential(nn.Linear(in_features, 1))\n",
        "  return net\n",
        "\n",
        "def get_net_2(hidden_size):\n",
        "  net = nn.Sequential(nn.Linear(in_features, hidden_size), nn.Linear(hidden_size, hidden_size), nn.Linear(hidden_size, 1))\n",
        "  return net\n",
        "\n",
        "def get_net_3(hidden_size, dropout_size):\n",
        "  net = nn.Sequential(nn.Linear(in_features, hidden_size), nn.Dropout(dropout_size), nn.Linear(hidden_size, hidden_size), nn.Dropout(dropout_size), nn.Linear(hidden_size, 1))\n",
        "  return net\n",
        "\n",
        "def get_net_4(hidden_size, dropout_size):\n",
        "  net = nn.Sequential(nn.Linear(in_features, hidden_size), nn.Dropout(dropout_size), nn.Linear(hidden_size, 12), nn.Sigmoid(), nn.Linear(hidden_size, 1))\n",
        "  return net\n",
        "\n",
        "def get_net_5(hidden_size):\n",
        "  net = nn.Sequential(nn.Linear(in_features, hidden_size), nn.Sigmoid(), nn.Linear(hidden_size, 12), nn.Sigmoid(), nn.Linear(hidden_size, 1))\n",
        "  return net\n",
        "\n",
        "def get_net_6(hidden_size, dropout_size):\n",
        "  net = nn.Sequential(nn.Linear(in_features, hidden_size), nn.Dropout(dropout_size), nn.Linear(hidden_size, 12), nn.ReLU(), nn.Linear(hidden_size, 1))\n",
        "  return net\n",
        "\n",
        "def get_net_7(hidden_size):\n",
        "  net = nn.Sequential(nn.Linear(in_features, hidden_size), nn.Sigmoid(), nn.Linear(hidden_size, 12), nn.ReLU(), nn.Linear(hidden_size, 1))\n",
        "  return net\n",
        "\n",
        "def get_net_8(hidden_size):\n",
        "  net = nn.Sequential(nn.Linear(in_features, hidden_size), nn.ReLU(), nn.Linear(hidden_size, 12), nn.ReLU(), nn.Linear(hidden_size, 1))\n",
        "  return net\n",
        "\n",
        "def log_rmse(net, features, labels, loss_active):\n",
        "  clipped_preds = torch.clamp(net(features), 1, float('inf'))\n",
        "  rmse = torch.sqrt(loss_active(torch.log(clipped_preds), torch.log(labels)))\n",
        "  return rmse.item()\n",
        "\n",
        "def train(net, train_features, train_labels, test_features, test_labels, num_epochs, learning_rate, weight_decay, batch_size, loss_active):\n",
        "  train_ls, test_ls = [], []\n",
        "  train_iter = d2l.load_array((train_features, train_labels), batch_size)\n",
        "  optimizer = torch.optim.Adam(net.parameters(), lr=learning_rate, weight_decay=weight_decay)\n",
        "  for epoch in range(num_epochs):\n",
        "    for X, y in train_iter:\n",
        "      optimizer.zero_grad()\n",
        "      l = loss_active(net(X), y)\n",
        "      l.backward()\n",
        "      optimizer.step()\n",
        "    train_ls.append(log_rmse(net, train_features, train_labels, loss_active))\n",
        "    if test_labels is not None:\n",
        "      test_ls.append(log_rmse(net, test_features, test_labels, loss_active))\n",
        "  return train_ls, test_ls\n",
        "\n",
        "def get_k_fold_data(k, i, X, y):\n",
        "  assert k > 1\n",
        "  fold_size = X.shape[0] // k\n",
        "  X_train, y_train = None, None\n",
        "  for j in range(k):\n",
        "    idx = slice(j * fold_size, (j + 1) * fold_size)\n",
        "    X_part, y_part = X[idx, :], y[idx]\n",
        "    if j == i:\n",
        "      X_valid, y_valid = X_part, y_part\n",
        "    elif X_train is None:\n",
        "      X_train, y_train = X_part, y_part\n",
        "    else:\n",
        "      X_train = torch.cat([X_train, X_part], 0)\n",
        "      y_train = torch.cat([y_train, y_part], 0)\n",
        "  return X_train, y_train, X_valid, y_valid\n",
        "\n",
        "def k_fold(k, X_train, y_train, num_epochs, learning_rate, weight_decay, batch_size, get_net, loss_active):\n",
        "  train_l_sum, valid_l_sum = 0, 0\n",
        "  for i in range(k):\n",
        "    data = get_k_fold_data(k, i, X_train, y_train)\n",
        "    net = get_net()\n",
        "    train_ls, valid_ls = train(net, *data, num_epochs, learning_rate, weight_decay, batch_size, loss_active)\n",
        "    train_l_sum += train_ls[-1]\n",
        "    valid_l_sum += valid_ls[-1]\n",
        "    if i == 0:\n",
        "      d2l.plot(list(range(1, num_epochs + 1)), [train_ls, valid_ls], xlabel='epoch', ylabel='rmse', xlim=[1, num_epochs], legend=['train', 'valid'], yscale='log')\n",
        "    print(f'fold {i + 1}, train log rmse {float(train_ls[-1]):f}, 'f'valid log rmse {float(valid_ls[-1]):f}')\n",
        "  return train_l_sum / k, valid_l_sum / k"
      ],
      "execution_count": null,
      "outputs": []
    },
    {
      "cell_type": "markdown",
      "metadata": {
        "id": "5IJlNFtedPE6"
      },
      "source": [
        "## AVALIACOES"
      ]
    },
    {
      "cell_type": "code",
      "metadata": {
        "colab": {
          "base_uri": "https://localhost:8080/",
          "height": 721
        },
        "id": "PJ5JjFiHbQBO",
        "outputId": "b098c41a-c6c9-4a06-86ae-793024bbd29c"
      },
      "source": [
        "k = [5, 7, 9]\n",
        "num_epochs = [100, 150, 200]\n",
        "lr = [5, 10, 15]\n",
        "weight_decay = [0, 0.1, 0.5]\n",
        "batch_size = [32, 64, 128]\n",
        "\n",
        "train_l, valid_l = k_fold(k[0], train_features, train_labels, num_epochs[0], lr[0], weight_decay[0], batch_size[0], get_net_1, loss_1)\n",
        "print(f'{k[0]}-fold validation: avg train log rmse: {float(train_l):f}, 'f'avg valid log rmse: {float(valid_l):f}')\n",
        "print('|----------------------------------------|')\n",
        "train_l, valid_l = k_fold(k[1], train_features, train_labels, num_epochs[1], lr[1], weight_decay[1], batch_size[1], get_net_1, loss_1)\n",
        "print(f'{k[1]}-fold validation: avg train log rmse: {float(train_l):f}, 'f'avg valid log rmse: {float(valid_l):f}')\n",
        "print('|----------------------------------------|')\n",
        "train_l, valid_l = k_fold(k[2], train_features, train_labels, num_epochs[2], lr[2], weight_decay[2], batch_size[2], get_net_1, loss_1)\n",
        "print(f'{k[2]}-fold validation: avg train log rmse: {float(train_l):f}, 'f'avg valid log rmse: {float(valid_l):f}')\n",
        "print('|----------------------------------------|')"
      ],
      "execution_count": null,
      "outputs": [
        {
          "output_type": "stream",
          "text": [
            "fold 1, train log rmse 0.149510, valid log rmse 0.146897\n",
            "fold 2, train log rmse 0.145150, valid log rmse 0.162651\n",
            "fold 3, train log rmse 0.143237, valid log rmse 0.149784\n",
            "fold 4, train log rmse 0.148384, valid log rmse 0.145597\n",
            "fold 5, train log rmse 0.143305, valid log rmse 0.173440\n",
            "5-fold validation: avg train log rmse: 0.145917, avg valid log rmse: 0.155674\n",
            "|----------------------------------------|\n",
            "fold 1, train log rmse 0.143674, valid log rmse 0.148612\n",
            "fold 2, train log rmse 0.144445, valid log rmse 0.140617\n",
            "fold 3, train log rmse 0.138686, valid log rmse 0.173134\n",
            "fold 4, train log rmse 0.137706, valid log rmse 0.162961\n",
            "fold 5, train log rmse 0.146215, valid log rmse 0.122780\n",
            "fold 6, train log rmse 0.140945, valid log rmse 0.161534\n",
            "fold 7, train log rmse 0.141884, valid log rmse 0.171451\n",
            "7-fold validation: avg train log rmse: 0.141936, avg valid log rmse: 0.154441\n",
            "|----------------------------------------|\n",
            "fold 1, train log rmse 0.341462, valid log rmse 0.163872\n",
            "fold 2, train log rmse 0.335878, valid log rmse 0.127215\n",
            "fold 3, train log rmse 0.337381, valid log rmse 0.209434\n",
            "fold 4, train log rmse 0.158259, valid log rmse 0.876693\n",
            "fold 5, train log rmse 0.335173, valid log rmse 0.163263\n",
            "fold 6, train log rmse 0.336510, valid log rmse 0.124056\n",
            "fold 7, train log rmse 0.335932, valid log rmse 0.166907\n",
            "fold 8, train log rmse 0.336089, valid log rmse 0.165772\n",
            "fold 9, train log rmse 0.337163, valid log rmse 0.189794\n",
            "9-fold validation: avg train log rmse: 0.317094, avg valid log rmse: 0.243001\n",
            "|----------------------------------------|\n"
          ],
          "name": "stdout"
        },
        {
          "output_type": "display_data",
          "data": {
            "text/plain": [
              "<Figure size 252x180 with 1 Axes>"
            ],
            "image/svg+xml": "<?xml version=\"1.0\" encoding=\"utf-8\" standalone=\"no\"?>\n<!DOCTYPE svg PUBLIC \"-//W3C//DTD SVG 1.1//EN\"\n  \"http://www.w3.org/Graphics/SVG/1.1/DTD/svg11.dtd\">\n<!-- Created with matplotlib (https://matplotlib.org/) -->\n<svg height=\"180.65625pt\" version=\"1.1\" viewBox=\"0 0 257.521875 180.65625\" width=\"257.521875pt\" xmlns=\"http://www.w3.org/2000/svg\" xmlns:xlink=\"http://www.w3.org/1999/xlink\">\n <defs>\n  <style type=\"text/css\">\n*{stroke-linecap:butt;stroke-linejoin:round;}\n  </style>\n </defs>\n <g id=\"figure_1\">\n  <g id=\"patch_1\">\n   <path d=\"M 0 180.65625 \nL 257.521875 180.65625 \nL 257.521875 0 \nL 0 0 \nz\n\" style=\"fill:none;\"/>\n  </g>\n  <g id=\"axes_1\">\n   <g id=\"patch_2\">\n    <path d=\"M 45.478125 143.1 \nL 240.778125 143.1 \nL 240.778125 7.2 \nL 45.478125 7.2 \nz\n\" style=\"fill:#ffffff;\"/>\n   </g>\n   <g id=\"matplotlib.axis_1\">\n    <g id=\"xtick_1\">\n     <g id=\"line2d_1\">\n      <path clip-path=\"url(#p95fe7d9732)\" d=\"M 93.56707 143.1 \nL 93.56707 7.2 \n\" style=\"fill:none;stroke:#b0b0b0;stroke-linecap:square;stroke-width:0.8;\"/>\n     </g>\n     <g id=\"line2d_2\">\n      <defs>\n       <path d=\"M 0 0 \nL 0 3.5 \n\" id=\"mf8740c1b55\" style=\"stroke:#000000;stroke-width:0.8;\"/>\n      </defs>\n      <g>\n       <use style=\"stroke:#000000;stroke-width:0.8;\" x=\"93.56707\" xlink:href=\"#mf8740c1b55\" y=\"143.1\"/>\n      </g>\n     </g>\n     <g id=\"text_1\">\n      <!-- 50 -->\n      <defs>\n       <path d=\"M 10.796875 72.90625 \nL 49.515625 72.90625 \nL 49.515625 64.59375 \nL 19.828125 64.59375 \nL 19.828125 46.734375 \nQ 21.96875 47.46875 24.109375 47.828125 \nQ 26.265625 48.1875 28.421875 48.1875 \nQ 40.625 48.1875 47.75 41.5 \nQ 54.890625 34.8125 54.890625 23.390625 \nQ 54.890625 11.625 47.5625 5.09375 \nQ 40.234375 -1.421875 26.90625 -1.421875 \nQ 22.3125 -1.421875 17.546875 -0.640625 \nQ 12.796875 0.140625 7.71875 1.703125 \nL 7.71875 11.625 \nQ 12.109375 9.234375 16.796875 8.0625 \nQ 21.484375 6.890625 26.703125 6.890625 \nQ 35.15625 6.890625 40.078125 11.328125 \nQ 45.015625 15.765625 45.015625 23.390625 \nQ 45.015625 31 40.078125 35.4375 \nQ 35.15625 39.890625 26.703125 39.890625 \nQ 22.75 39.890625 18.8125 39.015625 \nQ 14.890625 38.140625 10.796875 36.28125 \nz\n\" id=\"DejaVuSans-53\"/>\n       <path d=\"M 31.78125 66.40625 \nQ 24.171875 66.40625 20.328125 58.90625 \nQ 16.5 51.421875 16.5 36.375 \nQ 16.5 21.390625 20.328125 13.890625 \nQ 24.171875 6.390625 31.78125 6.390625 \nQ 39.453125 6.390625 43.28125 13.890625 \nQ 47.125 21.390625 47.125 36.375 \nQ 47.125 51.421875 43.28125 58.90625 \nQ 39.453125 66.40625 31.78125 66.40625 \nz\nM 31.78125 74.21875 \nQ 44.046875 74.21875 50.515625 64.515625 \nQ 56.984375 54.828125 56.984375 36.375 \nQ 56.984375 17.96875 50.515625 8.265625 \nQ 44.046875 -1.421875 31.78125 -1.421875 \nQ 19.53125 -1.421875 13.0625 8.265625 \nQ 6.59375 17.96875 6.59375 36.375 \nQ 6.59375 54.828125 13.0625 64.515625 \nQ 19.53125 74.21875 31.78125 74.21875 \nz\n\" id=\"DejaVuSans-48\"/>\n      </defs>\n      <g transform=\"translate(87.20457 157.698438)scale(0.1 -0.1)\">\n       <use xlink:href=\"#DejaVuSans-53\"/>\n       <use x=\"63.623047\" xlink:href=\"#DejaVuSans-48\"/>\n      </g>\n     </g>\n    </g>\n    <g id=\"xtick_2\">\n     <g id=\"line2d_3\">\n      <path clip-path=\"url(#p95fe7d9732)\" d=\"M 142.637421 143.1 \nL 142.637421 7.2 \n\" style=\"fill:none;stroke:#b0b0b0;stroke-linecap:square;stroke-width:0.8;\"/>\n     </g>\n     <g id=\"line2d_4\">\n      <g>\n       <use style=\"stroke:#000000;stroke-width:0.8;\" x=\"142.637421\" xlink:href=\"#mf8740c1b55\" y=\"143.1\"/>\n      </g>\n     </g>\n     <g id=\"text_2\">\n      <!-- 100 -->\n      <defs>\n       <path d=\"M 12.40625 8.296875 \nL 28.515625 8.296875 \nL 28.515625 63.921875 \nL 10.984375 60.40625 \nL 10.984375 69.390625 \nL 28.421875 72.90625 \nL 38.28125 72.90625 \nL 38.28125 8.296875 \nL 54.390625 8.296875 \nL 54.390625 0 \nL 12.40625 0 \nz\n\" id=\"DejaVuSans-49\"/>\n      </defs>\n      <g transform=\"translate(133.093671 157.698438)scale(0.1 -0.1)\">\n       <use xlink:href=\"#DejaVuSans-49\"/>\n       <use x=\"63.623047\" xlink:href=\"#DejaVuSans-48\"/>\n       <use x=\"127.246094\" xlink:href=\"#DejaVuSans-48\"/>\n      </g>\n     </g>\n    </g>\n    <g id=\"xtick_3\">\n     <g id=\"line2d_5\">\n      <path clip-path=\"url(#p95fe7d9732)\" d=\"M 191.707773 143.1 \nL 191.707773 7.2 \n\" style=\"fill:none;stroke:#b0b0b0;stroke-linecap:square;stroke-width:0.8;\"/>\n     </g>\n     <g id=\"line2d_6\">\n      <g>\n       <use style=\"stroke:#000000;stroke-width:0.8;\" x=\"191.707773\" xlink:href=\"#mf8740c1b55\" y=\"143.1\"/>\n      </g>\n     </g>\n     <g id=\"text_3\">\n      <!-- 150 -->\n      <g transform=\"translate(182.164023 157.698438)scale(0.1 -0.1)\">\n       <use xlink:href=\"#DejaVuSans-49\"/>\n       <use x=\"63.623047\" xlink:href=\"#DejaVuSans-53\"/>\n       <use x=\"127.246094\" xlink:href=\"#DejaVuSans-48\"/>\n      </g>\n     </g>\n    </g>\n    <g id=\"xtick_4\">\n     <g id=\"line2d_7\">\n      <path clip-path=\"url(#p95fe7d9732)\" d=\"M 240.778125 143.1 \nL 240.778125 7.2 \n\" style=\"fill:none;stroke:#b0b0b0;stroke-linecap:square;stroke-width:0.8;\"/>\n     </g>\n     <g id=\"line2d_8\">\n      <g>\n       <use style=\"stroke:#000000;stroke-width:0.8;\" x=\"240.778125\" xlink:href=\"#mf8740c1b55\" y=\"143.1\"/>\n      </g>\n     </g>\n     <g id=\"text_4\">\n      <!-- 200 -->\n      <defs>\n       <path d=\"M 19.1875 8.296875 \nL 53.609375 8.296875 \nL 53.609375 0 \nL 7.328125 0 \nL 7.328125 8.296875 \nQ 12.9375 14.109375 22.625 23.890625 \nQ 32.328125 33.6875 34.8125 36.53125 \nQ 39.546875 41.84375 41.421875 45.53125 \nQ 43.3125 49.21875 43.3125 52.78125 \nQ 43.3125 58.59375 39.234375 62.25 \nQ 35.15625 65.921875 28.609375 65.921875 \nQ 23.96875 65.921875 18.8125 64.3125 \nQ 13.671875 62.703125 7.8125 59.421875 \nL 7.8125 69.390625 \nQ 13.765625 71.78125 18.9375 73 \nQ 24.125 74.21875 28.421875 74.21875 \nQ 39.75 74.21875 46.484375 68.546875 \nQ 53.21875 62.890625 53.21875 53.421875 \nQ 53.21875 48.921875 51.53125 44.890625 \nQ 49.859375 40.875 45.40625 35.40625 \nQ 44.1875 33.984375 37.640625 27.21875 \nQ 31.109375 20.453125 19.1875 8.296875 \nz\n\" id=\"DejaVuSans-50\"/>\n      </defs>\n      <g transform=\"translate(231.234375 157.698438)scale(0.1 -0.1)\">\n       <use xlink:href=\"#DejaVuSans-50\"/>\n       <use x=\"63.623047\" xlink:href=\"#DejaVuSans-48\"/>\n       <use x=\"127.246094\" xlink:href=\"#DejaVuSans-48\"/>\n      </g>\n     </g>\n    </g>\n    <g id=\"text_5\">\n     <!-- epoch -->\n     <defs>\n      <path d=\"M 56.203125 29.59375 \nL 56.203125 25.203125 \nL 14.890625 25.203125 \nQ 15.484375 15.921875 20.484375 11.0625 \nQ 25.484375 6.203125 34.421875 6.203125 \nQ 39.59375 6.203125 44.453125 7.46875 \nQ 49.3125 8.734375 54.109375 11.28125 \nL 54.109375 2.78125 \nQ 49.265625 0.734375 44.1875 -0.34375 \nQ 39.109375 -1.421875 33.890625 -1.421875 \nQ 20.796875 -1.421875 13.15625 6.1875 \nQ 5.515625 13.8125 5.515625 26.8125 \nQ 5.515625 40.234375 12.765625 48.109375 \nQ 20.015625 56 32.328125 56 \nQ 43.359375 56 49.78125 48.890625 \nQ 56.203125 41.796875 56.203125 29.59375 \nz\nM 47.21875 32.234375 \nQ 47.125 39.59375 43.09375 43.984375 \nQ 39.0625 48.390625 32.421875 48.390625 \nQ 24.90625 48.390625 20.390625 44.140625 \nQ 15.875 39.890625 15.1875 32.171875 \nz\n\" id=\"DejaVuSans-101\"/>\n      <path d=\"M 18.109375 8.203125 \nL 18.109375 -20.796875 \nL 9.078125 -20.796875 \nL 9.078125 54.6875 \nL 18.109375 54.6875 \nL 18.109375 46.390625 \nQ 20.953125 51.265625 25.265625 53.625 \nQ 29.59375 56 35.59375 56 \nQ 45.5625 56 51.78125 48.09375 \nQ 58.015625 40.1875 58.015625 27.296875 \nQ 58.015625 14.40625 51.78125 6.484375 \nQ 45.5625 -1.421875 35.59375 -1.421875 \nQ 29.59375 -1.421875 25.265625 0.953125 \nQ 20.953125 3.328125 18.109375 8.203125 \nz\nM 48.6875 27.296875 \nQ 48.6875 37.203125 44.609375 42.84375 \nQ 40.53125 48.484375 33.40625 48.484375 \nQ 26.265625 48.484375 22.1875 42.84375 \nQ 18.109375 37.203125 18.109375 27.296875 \nQ 18.109375 17.390625 22.1875 11.75 \nQ 26.265625 6.109375 33.40625 6.109375 \nQ 40.53125 6.109375 44.609375 11.75 \nQ 48.6875 17.390625 48.6875 27.296875 \nz\n\" id=\"DejaVuSans-112\"/>\n      <path d=\"M 30.609375 48.390625 \nQ 23.390625 48.390625 19.1875 42.75 \nQ 14.984375 37.109375 14.984375 27.296875 \nQ 14.984375 17.484375 19.15625 11.84375 \nQ 23.34375 6.203125 30.609375 6.203125 \nQ 37.796875 6.203125 41.984375 11.859375 \nQ 46.1875 17.53125 46.1875 27.296875 \nQ 46.1875 37.015625 41.984375 42.703125 \nQ 37.796875 48.390625 30.609375 48.390625 \nz\nM 30.609375 56 \nQ 42.328125 56 49.015625 48.375 \nQ 55.71875 40.765625 55.71875 27.296875 \nQ 55.71875 13.875 49.015625 6.21875 \nQ 42.328125 -1.421875 30.609375 -1.421875 \nQ 18.84375 -1.421875 12.171875 6.21875 \nQ 5.515625 13.875 5.515625 27.296875 \nQ 5.515625 40.765625 12.171875 48.375 \nQ 18.84375 56 30.609375 56 \nz\n\" id=\"DejaVuSans-111\"/>\n      <path d=\"M 48.78125 52.59375 \nL 48.78125 44.1875 \nQ 44.96875 46.296875 41.140625 47.34375 \nQ 37.3125 48.390625 33.40625 48.390625 \nQ 24.65625 48.390625 19.8125 42.84375 \nQ 14.984375 37.3125 14.984375 27.296875 \nQ 14.984375 17.28125 19.8125 11.734375 \nQ 24.65625 6.203125 33.40625 6.203125 \nQ 37.3125 6.203125 41.140625 7.25 \nQ 44.96875 8.296875 48.78125 10.40625 \nL 48.78125 2.09375 \nQ 45.015625 0.34375 40.984375 -0.53125 \nQ 36.96875 -1.421875 32.421875 -1.421875 \nQ 20.0625 -1.421875 12.78125 6.34375 \nQ 5.515625 14.109375 5.515625 27.296875 \nQ 5.515625 40.671875 12.859375 48.328125 \nQ 20.21875 56 33.015625 56 \nQ 37.15625 56 41.109375 55.140625 \nQ 45.0625 54.296875 48.78125 52.59375 \nz\n\" id=\"DejaVuSans-99\"/>\n      <path d=\"M 54.890625 33.015625 \nL 54.890625 0 \nL 45.90625 0 \nL 45.90625 32.71875 \nQ 45.90625 40.484375 42.875 44.328125 \nQ 39.84375 48.1875 33.796875 48.1875 \nQ 26.515625 48.1875 22.3125 43.546875 \nQ 18.109375 38.921875 18.109375 30.90625 \nL 18.109375 0 \nL 9.078125 0 \nL 9.078125 75.984375 \nL 18.109375 75.984375 \nL 18.109375 46.1875 \nQ 21.34375 51.125 25.703125 53.5625 \nQ 30.078125 56 35.796875 56 \nQ 45.21875 56 50.046875 50.171875 \nQ 54.890625 44.34375 54.890625 33.015625 \nz\n\" id=\"DejaVuSans-104\"/>\n     </defs>\n     <g transform=\"translate(127.9 171.376563)scale(0.1 -0.1)\">\n      <use xlink:href=\"#DejaVuSans-101\"/>\n      <use x=\"61.523438\" xlink:href=\"#DejaVuSans-112\"/>\n      <use x=\"125\" xlink:href=\"#DejaVuSans-111\"/>\n      <use x=\"186.181641\" xlink:href=\"#DejaVuSans-99\"/>\n      <use x=\"241.162109\" xlink:href=\"#DejaVuSans-104\"/>\n     </g>\n    </g>\n   </g>\n   <g id=\"matplotlib.axis_2\">\n    <g id=\"ytick_1\">\n     <g id=\"line2d_9\">\n      <path clip-path=\"url(#p95fe7d9732)\" d=\"M 45.478125 61.459908 \nL 240.778125 61.459908 \n\" style=\"fill:none;stroke:#b0b0b0;stroke-linecap:square;stroke-width:0.8;\"/>\n     </g>\n     <g id=\"line2d_10\">\n      <defs>\n       <path d=\"M 0 0 \nL -3.5 0 \n\" id=\"mf5fac245b6\" style=\"stroke:#000000;stroke-width:0.8;\"/>\n      </defs>\n      <g>\n       <use style=\"stroke:#000000;stroke-width:0.8;\" x=\"45.478125\" xlink:href=\"#mf5fac245b6\" y=\"61.459908\"/>\n      </g>\n     </g>\n     <g id=\"text_6\">\n      <!-- $\\mathdefault{10^{0}}$ -->\n      <g transform=\"translate(20.878125 65.259127)scale(0.1 -0.1)\">\n       <use transform=\"translate(0 0.765625)\" xlink:href=\"#DejaVuSans-49\"/>\n       <use transform=\"translate(63.623047 0.765625)\" xlink:href=\"#DejaVuSans-48\"/>\n       <use transform=\"translate(128.203125 39.046875)scale(0.7)\" xlink:href=\"#DejaVuSans-48\"/>\n      </g>\n     </g>\n    </g>\n    <g id=\"ytick_2\">\n     <g id=\"line2d_11\">\n      <defs>\n       <path d=\"M 0 0 \nL -2 0 \n\" id=\"m17851a865f\" style=\"stroke:#000000;stroke-width:0.6;\"/>\n      </defs>\n      <g>\n       <use style=\"stroke:#000000;stroke-width:0.6;\" x=\"45.478125\" xlink:href=\"#m17851a865f\" y=\"128.274869\"/>\n      </g>\n     </g>\n    </g>\n    <g id=\"ytick_3\">\n     <g id=\"line2d_12\">\n      <g>\n       <use style=\"stroke:#000000;stroke-width:0.6;\" x=\"45.478125\" xlink:href=\"#m17851a865f\" y=\"111.4422\"/>\n      </g>\n     </g>\n    </g>\n    <g id=\"ytick_4\">\n     <g id=\"line2d_13\">\n      <g>\n       <use style=\"stroke:#000000;stroke-width:0.6;\" x=\"45.478125\" xlink:href=\"#m17851a865f\" y=\"99.499232\"/>\n      </g>\n     </g>\n    </g>\n    <g id=\"ytick_5\">\n     <g id=\"line2d_14\">\n      <g>\n       <use style=\"stroke:#000000;stroke-width:0.6;\" x=\"45.478125\" xlink:href=\"#m17851a865f\" y=\"90.235546\"/>\n      </g>\n     </g>\n    </g>\n    <g id=\"ytick_6\">\n     <g id=\"line2d_15\">\n      <g>\n       <use style=\"stroke:#000000;stroke-width:0.6;\" x=\"45.478125\" xlink:href=\"#m17851a865f\" y=\"82.666563\"/>\n      </g>\n     </g>\n    </g>\n    <g id=\"ytick_7\">\n     <g id=\"line2d_16\">\n      <g>\n       <use style=\"stroke:#000000;stroke-width:0.6;\" x=\"45.478125\" xlink:href=\"#m17851a865f\" y=\"76.267079\"/>\n      </g>\n     </g>\n    </g>\n    <g id=\"ytick_8\">\n     <g id=\"line2d_17\">\n      <g>\n       <use style=\"stroke:#000000;stroke-width:0.6;\" x=\"45.478125\" xlink:href=\"#m17851a865f\" y=\"70.723594\"/>\n      </g>\n     </g>\n    </g>\n    <g id=\"ytick_9\">\n     <g id=\"line2d_18\">\n      <g>\n       <use style=\"stroke:#000000;stroke-width:0.6;\" x=\"45.478125\" xlink:href=\"#m17851a865f\" y=\"65.833894\"/>\n      </g>\n     </g>\n    </g>\n    <g id=\"ytick_10\">\n     <g id=\"line2d_19\">\n      <g>\n       <use style=\"stroke:#000000;stroke-width:0.6;\" x=\"45.478125\" xlink:href=\"#m17851a865f\" y=\"32.684271\"/>\n      </g>\n     </g>\n    </g>\n    <g id=\"ytick_11\">\n     <g id=\"line2d_20\">\n      <g>\n       <use style=\"stroke:#000000;stroke-width:0.6;\" x=\"45.478125\" xlink:href=\"#m17851a865f\" y=\"15.851602\"/>\n      </g>\n     </g>\n    </g>\n    <g id=\"text_7\">\n     <!-- rmse -->\n     <defs>\n      <path d=\"M 41.109375 46.296875 \nQ 39.59375 47.171875 37.8125 47.578125 \nQ 36.03125 48 33.890625 48 \nQ 26.265625 48 22.1875 43.046875 \nQ 18.109375 38.09375 18.109375 28.8125 \nL 18.109375 0 \nL 9.078125 0 \nL 9.078125 54.6875 \nL 18.109375 54.6875 \nL 18.109375 46.1875 \nQ 20.953125 51.171875 25.484375 53.578125 \nQ 30.03125 56 36.53125 56 \nQ 37.453125 56 38.578125 55.875 \nQ 39.703125 55.765625 41.0625 55.515625 \nz\n\" id=\"DejaVuSans-114\"/>\n      <path d=\"M 52 44.1875 \nQ 55.375 50.25 60.0625 53.125 \nQ 64.75 56 71.09375 56 \nQ 79.640625 56 84.28125 50.015625 \nQ 88.921875 44.046875 88.921875 33.015625 \nL 88.921875 0 \nL 79.890625 0 \nL 79.890625 32.71875 \nQ 79.890625 40.578125 77.09375 44.375 \nQ 74.3125 48.1875 68.609375 48.1875 \nQ 61.625 48.1875 57.5625 43.546875 \nQ 53.515625 38.921875 53.515625 30.90625 \nL 53.515625 0 \nL 44.484375 0 \nL 44.484375 32.71875 \nQ 44.484375 40.625 41.703125 44.40625 \nQ 38.921875 48.1875 33.109375 48.1875 \nQ 26.21875 48.1875 22.15625 43.53125 \nQ 18.109375 38.875 18.109375 30.90625 \nL 18.109375 0 \nL 9.078125 0 \nL 9.078125 54.6875 \nL 18.109375 54.6875 \nL 18.109375 46.1875 \nQ 21.1875 51.21875 25.484375 53.609375 \nQ 29.78125 56 35.6875 56 \nQ 41.65625 56 45.828125 52.96875 \nQ 50 49.953125 52 44.1875 \nz\n\" id=\"DejaVuSans-109\"/>\n      <path d=\"M 44.28125 53.078125 \nL 44.28125 44.578125 \nQ 40.484375 46.53125 36.375 47.5 \nQ 32.28125 48.484375 27.875 48.484375 \nQ 21.1875 48.484375 17.84375 46.4375 \nQ 14.5 44.390625 14.5 40.28125 \nQ 14.5 37.15625 16.890625 35.375 \nQ 19.28125 33.59375 26.515625 31.984375 \nL 29.59375 31.296875 \nQ 39.15625 29.25 43.1875 25.515625 \nQ 47.21875 21.78125 47.21875 15.09375 \nQ 47.21875 7.46875 41.1875 3.015625 \nQ 35.15625 -1.421875 24.609375 -1.421875 \nQ 20.21875 -1.421875 15.453125 -0.5625 \nQ 10.6875 0.296875 5.421875 2 \nL 5.421875 11.28125 \nQ 10.40625 8.6875 15.234375 7.390625 \nQ 20.0625 6.109375 24.8125 6.109375 \nQ 31.15625 6.109375 34.5625 8.28125 \nQ 37.984375 10.453125 37.984375 14.40625 \nQ 37.984375 18.0625 35.515625 20.015625 \nQ 33.0625 21.96875 24.703125 23.78125 \nL 21.578125 24.515625 \nQ 13.234375 26.265625 9.515625 29.90625 \nQ 5.8125 33.546875 5.8125 39.890625 \nQ 5.8125 47.609375 11.28125 51.796875 \nQ 16.75 56 26.8125 56 \nQ 31.78125 56 36.171875 55.265625 \nQ 40.578125 54.546875 44.28125 53.078125 \nz\n\" id=\"DejaVuSans-115\"/>\n     </defs>\n     <g transform=\"translate(14.798437 87.669531)rotate(-90)scale(0.1 -0.1)\">\n      <use xlink:href=\"#DejaVuSans-114\"/>\n      <use x=\"39.363281\" xlink:href=\"#DejaVuSans-109\"/>\n      <use x=\"136.775391\" xlink:href=\"#DejaVuSans-115\"/>\n      <use x=\"188.875\" xlink:href=\"#DejaVuSans-101\"/>\n     </g>\n    </g>\n   </g>\n   <g id=\"line2d_21\">\n    <path clip-path=\"url(#p95fe7d9732)\" d=\"M 45.478125 13.390178 \nL 46.459532 23.466635 \nL 47.440939 30.632757 \nL 48.422346 36.51607 \nL 50.38516 46.312072 \nL 52.347974 54.659542 \nL 55.292195 65.705047 \nL 58.236416 75.811074 \nL 62.162045 88.369688 \nL 65.106266 97.152524 \nL 68.050487 105.148182 \nL 70.994708 112.353945 \nL 72.957522 116.603385 \nL 74.920336 120.193675 \nL 76.88315 123.203528 \nL 78.845964 125.677117 \nL 79.827371 126.721808 \nL 80.808778 127.570481 \nL 81.790185 128.235346 \nL 82.771592 128.751296 \nL 83.752999 128.966263 \nL 84.734406 128.99471 \nL 85.715813 128.771556 \nL 86.69722 127.840188 \nL 87.678628 125.714835 \nL 88.660035 105.661483 \nL 92.585663 105.80715 \nL 97.492698 105.78652 \nL 108.288175 105.527372 \nL 115.158024 105.168238 \nL 117.120839 105.073221 \nL 126.934909 105.249836 \nL 128.897723 105.4614 \nL 132.823351 105.419061 \nL 137.730386 105.345124 \nL 142.637421 105.494789 \nL 146.56305 105.343728 \nL 148.525864 105.383181 \nL 153.432899 105.265108 \nL 155.395713 105.203454 \nL 157.358527 105.590623 \nL 158.339934 105.664745 \nL 159.321341 105.867068 \nL 161.284155 105.866102 \nL 164.228376 105.668298 \nL 167.172597 105.350697 \nL 175.023854 105.604369 \nL 176.005261 105.585856 \nL 177.968075 105.708596 \nL 179.930889 105.581816 \nL 182.87511 105.577215 \nL 186.800738 105.541673 \nL 193.670587 105.728831 \nL 195.633401 105.65354 \nL 198.577622 105.602624 \nL 201.521844 105.49034 \nL 204.466065 105.564154 \nL 205.447472 105.417727 \nL 207.410286 105.499878 \nL 210.354507 105.748473 \nL 211.335914 105.771994 \nL 212.317321 105.975225 \nL 214.280135 106.092351 \nL 221.149984 105.985913 \nL 223.112798 105.843576 \nL 226.057019 105.887176 \nL 236.852497 105.920877 \nL 237.833904 106.172354 \nL 240.778125 106.068002 \nL 240.778125 106.068002 \n\" style=\"fill:none;stroke:#1f77b4;stroke-linecap:square;stroke-width:1.5;\"/>\n   </g>\n   <g id=\"line2d_22\">\n    <path clip-path=\"url(#p95fe7d9732)\" d=\"M 45.478125 13.377273 \nL 46.459532 23.492188 \nL 47.440939 30.688526 \nL 48.422346 36.602763 \nL 50.38516 46.417386 \nL 52.347974 54.776853 \nL 55.292195 65.87656 \nL 58.236416 76.065404 \nL 62.162045 88.762219 \nL 65.106266 97.714039 \nL 68.050487 105.967135 \nL 70.994708 113.478697 \nL 72.957522 117.958273 \nL 74.920336 121.784289 \nL 76.88315 125.038983 \nL 78.845964 127.78745 \nL 79.827371 128.965693 \nL 81.790185 130.813771 \nL 82.771592 131.548574 \nL 84.734406 132.563456 \nL 86.69722 133.171716 \nL 89.641442 133.763151 \nL 91.604256 133.882472 \nL 95.529884 133.744463 \nL 106.325361 132.546424 \nL 108.288175 132.346643 \nL 109.269582 132.261677 \nL 110.250989 131.99685 \nL 112.213803 131.961248 \nL 113.19521 131.835667 \nL 114.176617 131.531552 \nL 115.158024 131.513571 \nL 116.139432 131.371932 \nL 122.027874 131.754326 \nL 127.916316 132.616338 \nL 129.87913 132.939704 \nL 131.841944 132.979091 \nL 134.786165 133.021993 \nL 136.748979 133.146488 \nL 137.730386 133.034503 \nL 138.711793 133.248689 \nL 139.6932 133.315884 \nL 140.674607 133.55386 \nL 142.637421 133.421349 \nL 144.600236 133.055161 \nL 145.581643 133.22907 \nL 146.56305 133.245477 \nL 147.544457 133.485623 \nL 149.507271 133.438288 \nL 150.488678 133.33748 \nL 151.470085 133.350239 \nL 152.451492 133.504265 \nL 154.414306 133.453167 \nL 155.395713 133.528072 \nL 156.37712 133.990353 \nL 158.339934 134.441488 \nL 159.321341 135.030523 \nL 160.302748 135.173389 \nL 161.284155 135.013213 \nL 162.265562 134.971101 \nL 167.172597 134.005165 \nL 168.154004 134.105979 \nL 169.135411 134.064489 \nL 173.06104 134.877093 \nL 174.042447 134.717612 \nL 176.005261 134.758101 \nL 176.986668 135.079932 \nL 178.949482 135.136296 \nL 179.930889 134.875338 \nL 181.893703 134.932967 \nL 183.856517 134.972496 \nL 185.819331 134.912043 \nL 187.782145 135.022764 \nL 189.744959 134.985612 \nL 190.726366 135.429537 \nL 191.707773 135.722752 \nL 196.614808 135.466501 \nL 197.596215 135.514362 \nL 198.577622 135.358894 \nL 201.521844 135.351198 \nL 204.466065 135.537059 \nL 205.447472 135.2815 \nL 206.428879 135.29408 \nL 207.410286 135.425888 \nL 209.3731 135.891365 \nL 210.354507 136.145352 \nL 211.335914 136.059562 \nL 212.317321 136.377085 \nL 214.280135 136.669509 \nL 215.261542 136.640865 \nL 216.242949 136.778252 \nL 217.224356 136.633487 \nL 221.149984 136.520678 \nL 223.112798 136.216842 \nL 226.057019 136.267508 \nL 227.038427 136.326559 \nL 228.019834 136.549269 \nL 229.982648 136.640846 \nL 233.908276 136.347146 \nL 235.87109 136.442344 \nL 236.852497 136.427683 \nL 237.833904 136.922727 \nL 238.815311 136.70978 \nL 240.778125 136.545823 \nL 240.778125 136.545823 \n\" style=\"fill:none;stroke:#bf00bf;stroke-dasharray:5.55,2.4;stroke-dashoffset:0;stroke-width:1.5;\"/>\n   </g>\n   <g id=\"patch_3\">\n    <path d=\"M 45.478125 143.1 \nL 45.478125 7.2 \n\" style=\"fill:none;stroke:#000000;stroke-linecap:square;stroke-linejoin:miter;stroke-width:0.8;\"/>\n   </g>\n   <g id=\"patch_4\">\n    <path d=\"M 240.778125 143.1 \nL 240.778125 7.2 \n\" style=\"fill:none;stroke:#000000;stroke-linecap:square;stroke-linejoin:miter;stroke-width:0.8;\"/>\n   </g>\n   <g id=\"patch_5\">\n    <path d=\"M 45.478125 143.1 \nL 240.778125 143.1 \n\" style=\"fill:none;stroke:#000000;stroke-linecap:square;stroke-linejoin:miter;stroke-width:0.8;\"/>\n   </g>\n   <g id=\"patch_6\">\n    <path d=\"M 45.478125 7.2 \nL 240.778125 7.2 \n\" style=\"fill:none;stroke:#000000;stroke-linecap:square;stroke-linejoin:miter;stroke-width:0.8;\"/>\n   </g>\n   <g id=\"legend_1\">\n    <g id=\"patch_7\">\n     <path d=\"M 177.826562 44.55625 \nL 233.778125 44.55625 \nQ 235.778125 44.55625 235.778125 42.55625 \nL 235.778125 14.2 \nQ 235.778125 12.2 233.778125 12.2 \nL 177.826562 12.2 \nQ 175.826562 12.2 175.826562 14.2 \nL 175.826562 42.55625 \nQ 175.826562 44.55625 177.826562 44.55625 \nz\n\" style=\"fill:#ffffff;opacity:0.8;stroke:#cccccc;stroke-linejoin:miter;\"/>\n    </g>\n    <g id=\"line2d_23\">\n     <path d=\"M 179.826562 20.298437 \nL 199.826562 20.298437 \n\" style=\"fill:none;stroke:#1f77b4;stroke-linecap:square;stroke-width:1.5;\"/>\n    </g>\n    <g id=\"line2d_24\"/>\n    <g id=\"text_8\">\n     <!-- train -->\n     <defs>\n      <path d=\"M 18.3125 70.21875 \nL 18.3125 54.6875 \nL 36.8125 54.6875 \nL 36.8125 47.703125 \nL 18.3125 47.703125 \nL 18.3125 18.015625 \nQ 18.3125 11.328125 20.140625 9.421875 \nQ 21.96875 7.515625 27.59375 7.515625 \nL 36.8125 7.515625 \nL 36.8125 0 \nL 27.59375 0 \nQ 17.1875 0 13.234375 3.875 \nQ 9.28125 7.765625 9.28125 18.015625 \nL 9.28125 47.703125 \nL 2.6875 47.703125 \nL 2.6875 54.6875 \nL 9.28125 54.6875 \nL 9.28125 70.21875 \nz\n\" id=\"DejaVuSans-116\"/>\n      <path d=\"M 34.28125 27.484375 \nQ 23.390625 27.484375 19.1875 25 \nQ 14.984375 22.515625 14.984375 16.5 \nQ 14.984375 11.71875 18.140625 8.90625 \nQ 21.296875 6.109375 26.703125 6.109375 \nQ 34.1875 6.109375 38.703125 11.40625 \nQ 43.21875 16.703125 43.21875 25.484375 \nL 43.21875 27.484375 \nz\nM 52.203125 31.203125 \nL 52.203125 0 \nL 43.21875 0 \nL 43.21875 8.296875 \nQ 40.140625 3.328125 35.546875 0.953125 \nQ 30.953125 -1.421875 24.3125 -1.421875 \nQ 15.921875 -1.421875 10.953125 3.296875 \nQ 6 8.015625 6 15.921875 \nQ 6 25.140625 12.171875 29.828125 \nQ 18.359375 34.515625 30.609375 34.515625 \nL 43.21875 34.515625 \nL 43.21875 35.40625 \nQ 43.21875 41.609375 39.140625 45 \nQ 35.0625 48.390625 27.6875 48.390625 \nQ 23 48.390625 18.546875 47.265625 \nQ 14.109375 46.140625 10.015625 43.890625 \nL 10.015625 52.203125 \nQ 14.9375 54.109375 19.578125 55.046875 \nQ 24.21875 56 28.609375 56 \nQ 40.484375 56 46.34375 49.84375 \nQ 52.203125 43.703125 52.203125 31.203125 \nz\n\" id=\"DejaVuSans-97\"/>\n      <path d=\"M 9.421875 54.6875 \nL 18.40625 54.6875 \nL 18.40625 0 \nL 9.421875 0 \nz\nM 9.421875 75.984375 \nL 18.40625 75.984375 \nL 18.40625 64.59375 \nL 9.421875 64.59375 \nz\n\" id=\"DejaVuSans-105\"/>\n      <path d=\"M 54.890625 33.015625 \nL 54.890625 0 \nL 45.90625 0 \nL 45.90625 32.71875 \nQ 45.90625 40.484375 42.875 44.328125 \nQ 39.84375 48.1875 33.796875 48.1875 \nQ 26.515625 48.1875 22.3125 43.546875 \nQ 18.109375 38.921875 18.109375 30.90625 \nL 18.109375 0 \nL 9.078125 0 \nL 9.078125 54.6875 \nL 18.109375 54.6875 \nL 18.109375 46.1875 \nQ 21.34375 51.125 25.703125 53.5625 \nQ 30.078125 56 35.796875 56 \nQ 45.21875 56 50.046875 50.171875 \nQ 54.890625 44.34375 54.890625 33.015625 \nz\n\" id=\"DejaVuSans-110\"/>\n     </defs>\n     <g transform=\"translate(207.826562 23.798437)scale(0.1 -0.1)\">\n      <use xlink:href=\"#DejaVuSans-116\"/>\n      <use x=\"39.208984\" xlink:href=\"#DejaVuSans-114\"/>\n      <use x=\"80.322266\" xlink:href=\"#DejaVuSans-97\"/>\n      <use x=\"141.601562\" xlink:href=\"#DejaVuSans-105\"/>\n      <use x=\"169.384766\" xlink:href=\"#DejaVuSans-110\"/>\n     </g>\n    </g>\n    <g id=\"line2d_25\">\n     <path d=\"M 179.826562 34.976562 \nL 199.826562 34.976562 \n\" style=\"fill:none;stroke:#bf00bf;stroke-dasharray:5.55,2.4;stroke-dashoffset:0;stroke-width:1.5;\"/>\n    </g>\n    <g id=\"line2d_26\"/>\n    <g id=\"text_9\">\n     <!-- valid -->\n     <defs>\n      <path d=\"M 2.984375 54.6875 \nL 12.5 54.6875 \nL 29.59375 8.796875 \nL 46.6875 54.6875 \nL 56.203125 54.6875 \nL 35.6875 0 \nL 23.484375 0 \nz\n\" id=\"DejaVuSans-118\"/>\n      <path d=\"M 9.421875 75.984375 \nL 18.40625 75.984375 \nL 18.40625 0 \nL 9.421875 0 \nz\n\" id=\"DejaVuSans-108\"/>\n      <path d=\"M 45.40625 46.390625 \nL 45.40625 75.984375 \nL 54.390625 75.984375 \nL 54.390625 0 \nL 45.40625 0 \nL 45.40625 8.203125 \nQ 42.578125 3.328125 38.25 0.953125 \nQ 33.9375 -1.421875 27.875 -1.421875 \nQ 17.96875 -1.421875 11.734375 6.484375 \nQ 5.515625 14.40625 5.515625 27.296875 \nQ 5.515625 40.1875 11.734375 48.09375 \nQ 17.96875 56 27.875 56 \nQ 33.9375 56 38.25 53.625 \nQ 42.578125 51.265625 45.40625 46.390625 \nz\nM 14.796875 27.296875 \nQ 14.796875 17.390625 18.875 11.75 \nQ 22.953125 6.109375 30.078125 6.109375 \nQ 37.203125 6.109375 41.296875 11.75 \nQ 45.40625 17.390625 45.40625 27.296875 \nQ 45.40625 37.203125 41.296875 42.84375 \nQ 37.203125 48.484375 30.078125 48.484375 \nQ 22.953125 48.484375 18.875 42.84375 \nQ 14.796875 37.203125 14.796875 27.296875 \nz\n\" id=\"DejaVuSans-100\"/>\n     </defs>\n     <g transform=\"translate(207.826562 38.476562)scale(0.1 -0.1)\">\n      <use xlink:href=\"#DejaVuSans-118\"/>\n      <use x=\"59.179688\" xlink:href=\"#DejaVuSans-97\"/>\n      <use x=\"120.458984\" xlink:href=\"#DejaVuSans-108\"/>\n      <use x=\"148.242188\" xlink:href=\"#DejaVuSans-105\"/>\n      <use x=\"176.025391\" xlink:href=\"#DejaVuSans-100\"/>\n     </g>\n    </g>\n   </g>\n  </g>\n </g>\n <defs>\n  <clipPath id=\"p95fe7d9732\">\n   <rect height=\"135.9\" width=\"195.3\" x=\"45.478125\" y=\"7.2\"/>\n  </clipPath>\n </defs>\n</svg>\n"
          },
          "metadata": {
            "tags": [],
            "needs_background": "light"
          }
        }
      ]
    }
  ]
}